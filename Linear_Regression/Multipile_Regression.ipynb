{
 "cells": [
  {
   "cell_type": "code",
   "execution_count": 1,
   "id": "257241a3",
   "metadata": {},
   "outputs": [],
   "source": [
    "import copy, math\n",
    "import numpy as np\n",
    "import matplotlib.pyplot as plt\n"
   ]
  },
  {
   "cell_type": "code",
   "execution_count": 6,
   "id": "003b4814",
   "metadata": {},
   "outputs": [],
   "source": [
    "X_train = np.array([[2104, 5, 1, 45], [1416, 3, 2, 40], [852, 2, 1, 35]])\n",
    "y_train = np.array([460, 232, 178])"
   ]
  },
  {
   "cell_type": "code",
   "execution_count": 14,
   "id": "4cb172a3",
   "metadata": {},
   "outputs": [],
   "source": [
    "# def predict_single_loop(x, w, b): \n",
    "#     n = x.shape[0];\n",
    "#     p = 0;\n",
    "#     for i in range(n):\n",
    "#         p += x[i] * w[i]\n",
    "#     p += b;\n",
    "#     return p;\n",
    "\n",
    "\n",
    "def predict(x, w, b):\n",
    "    p = np.dot(x,w) + b;\n",
    "    return p;\n"
   ]
  },
  {
   "cell_type": "code",
   "execution_count": 15,
   "id": "e7ed8449",
   "metadata": {},
   "outputs": [
    {
     "name": "stdout",
     "output_type": "stream",
     "text": [
      "459.9999976194082\n"
     ]
    }
   ],
   "source": [
    "\n",
    "b_init = 785.1811367994083\n",
    "w_init = np.array([ 0.39133535, 18.75376741, -53.36032453, -26.42131618])\n",
    "\n",
    "temp = X_train[0, :];\n",
    "pred = predict(temp , w_init, b_init);\n",
    "print(pred)"
   ]
  },
  {
   "cell_type": "code",
   "execution_count": 18,
   "id": "1aa54537",
   "metadata": {},
   "outputs": [],
   "source": [
    "def compute_cost(X, y, w, b) : \n",
    "    n = X.shape[0];\n",
    "    cost = 0.0\n",
    "    for i in range(n): \n",
    "        f_wb = np.dot(X[i] , w) + b;\n",
    "        cost += (f_wb - y[i]) ** 2;\n",
    "    cost = cost / (2 * n); \n",
    "    return cost;"
   ]
  },
  {
   "cell_type": "code",
   "execution_count": 19,
   "id": "6be6821b",
   "metadata": {},
   "outputs": [
    {
     "name": "stdout",
     "output_type": "stream",
     "text": [
      "Cost at optimal w : 1.5578904330213735e-12\n"
     ]
    }
   ],
   "source": [
    "cost = compute_cost(X_train, y_train, w_init, b_init)\n",
    "print(f'Cost at optimal w : {cost}')"
   ]
  },
  {
   "cell_type": "code",
   "execution_count": 23,
   "id": "831eb2d7",
   "metadata": {},
   "outputs": [],
   "source": [
    "def compute_gradient(X,y, w , b):\n",
    "    m,n = X.shape;\n",
    "    dj_dw = np.zeros((n,));\n",
    "    dj_db  = 0.\n",
    "    \n",
    "    for i in range(m): \n",
    "        err = (np.dot(X[i], w) + b) - y[i];\n",
    "        for j in range(n) : \n",
    "            dj_dw += err * X[i, j];\n",
    "        dj_db += err;\n",
    "        \n",
    "    dj_dw = dj_dw / m                                \n",
    "    dj_db = dj_db / m \n",
    "    return dj_db, dj_dw"
   ]
  },
  {
   "cell_type": "code",
   "execution_count": 24,
   "id": "80c33bf2",
   "metadata": {},
   "outputs": [
    {
     "name": "stdout",
     "output_type": "stream",
     "text": [
      "dj_db at initial w,b: -1.6739251122999121e-06\n",
      "dj_dw at initial w,b: \n",
      " [-0.00280397 -0.00280397 -0.00280397 -0.00280397]\n"
     ]
    }
   ],
   "source": [
    "tmp_dj_db, tmp_dj_dw = compute_gradient(X_train, y_train, w_init, b_init)\n",
    "print(f'dj_db at initial w,b: {tmp_dj_db}')\n",
    "print(f'dj_dw at initial w,b: \\n {tmp_dj_dw}')"
   ]
  },
  {
   "cell_type": "code",
   "execution_count": 25,
   "id": "b3ceb178",
   "metadata": {},
   "outputs": [],
   "source": [
    "def gradient_descent(X, y, w_in, b_in, cost_function, gradient_function, alpha, num_iters): \n",
    "    J_history = []\n",
    "    w = copy.deepcopy(w_in)\n",
    "    b = b_in\n",
    "    \n",
    "    for i in range(num_iters):\n",
    "        dj_db,dj_dw = gradient_function(X, y, w, b)\n",
    "\n",
    "        w = w - alpha * dj_dw \n",
    "        b = b - alpha * dj_db\n",
    "\n",
    "        if i<100000:\n",
    "            J_history.append( cost_function(X, y, w, b))\n",
    "        if i% math.ceil(num_iters / 10) == 0:\n",
    "            print(f\"Iteration {i:4d}: Cost {J_history[-1]:8.2f}   \")\n",
    "    return w, b, J_history"
   ]
  },
  {
   "cell_type": "code",
   "execution_count": 26,
   "id": "f2862c16",
   "metadata": {},
   "outputs": [
    {
     "name": "stdout",
     "output_type": "stream",
     "text": [
      "Iteration    0: Cost  4073.16   \n",
      "Iteration  100: Cost   729.91   \n",
      "Iteration  200: Cost   729.90   \n",
      "Iteration  300: Cost   729.90   \n",
      "Iteration  400: Cost   729.90   \n",
      "Iteration  500: Cost   729.90   \n",
      "Iteration  600: Cost   729.90   \n",
      "Iteration  700: Cost   729.90   \n",
      "Iteration  800: Cost   729.90   \n",
      "Iteration  900: Cost   729.89   \n",
      "b,w found by gradient descent: -0.00,[0.1966389 0.1966389 0.1966389 0.1966389] \n",
      "prediction: 423.75, target value: 460\n",
      "prediction: 287.29, target value: 232\n",
      "prediction: 175.01, target value: 178\n"
     ]
    }
   ],
   "source": [
    "initial_w = np.zeros_like(w_init)\n",
    "initial_b = 0.\n",
    "iterations = 1000\n",
    "alpha = 5.0e-7\n",
    "w_final, b_final, J_hist = gradient_descent(X_train, y_train, initial_w, initial_b,\n",
    "                                                    compute_cost, compute_gradient, \n",
    "                                                    alpha, iterations)\n",
    "print(f\"b,w found by gradient descent: {b_final:0.2f},{w_final} \")\n",
    "m,_ = X_train.shape\n",
    "for i in range(m):\n",
    "    print(f\"prediction: {np.dot(X_train[i], w_final) + b_final:0.2f}, target value: {y_train[i]}\")"
   ]
  }
 ],
 "metadata": {
  "kernelspec": {
   "display_name": "Python 3 (ipykernel)",
   "language": "python",
   "name": "python3"
  },
  "language_info": {
   "codemirror_mode": {
    "name": "ipython",
    "version": 3
   },
   "file_extension": ".py",
   "mimetype": "text/x-python",
   "name": "python",
   "nbconvert_exporter": "python",
   "pygments_lexer": "ipython3",
   "version": "3.9.13"
  }
 },
 "nbformat": 4,
 "nbformat_minor": 5
}
